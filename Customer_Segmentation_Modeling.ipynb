{
  "nbformat": 4,
  "nbformat_minor": 0,
  "metadata": {
    "colab": {
      "name": "Customer Segmentation Modeling",
      "provenance": [],
      "collapsed_sections": [],
      "toc_visible": true
    },
    "kernelspec": {
      "name": "python3",
      "display_name": "Python 3"
    }
  },
  "cells": [
    {
      "cell_type": "markdown",
      "metadata": {
        "id": "ocMYdLDXnhyY"
      },
      "source": [
        "## Customer Segmentation using RFM "
      ]
    },
    {
      "cell_type": "markdown",
      "metadata": {
        "id": "gww1rkuPnsA0"
      },
      "source": [
        "## Content"
      ]
    },
    {
      "cell_type": "markdown",
      "metadata": {
        "id": "_gMm07QyoGsB"
      },
      "source": [
        "1. Introduction\r\n",
        "2. Imports\r\n",
        "3. Definitions\r\n",
        "4. Data Preprocessing\r\n",
        "5. RFM Table\r\n",
        "6. Managing skewness of the data and variable scaling\r\n",
        "7. Data Clustering\r\n",
        "8. Interpretation of results"
      ]
    },
    {
      "cell_type": "markdown",
      "metadata": {
        "id": "JBPi35u9pYVT"
      },
      "source": [
        "# 1. Introduction"
      ]
    },
    {
      "cell_type": "markdown",
      "metadata": {
        "id": "8ERzCKKypr98"
      },
      "source": [
        "## 1.1 Problem Landscape"
      ]
    },
    {
      "cell_type": "markdown",
      "metadata": {
        "id": "aUpfraSIpcND"
      },
      "source": [
        "Suppose that we have a company that selling some of the product, and you want to know how well does the selling performance of the product. You have the data that can we analyze, but what kind of analysis that we can do?\r\n",
        "\r\n",
        "Well, we can segment customers based on their buying behavior on the market.\r\n",
        "Keep in mind that the data is of a large scale, and we can not analyze it using our bare eye. We will use machine learning algorithms and the power of computing for it.\r\n",
        "\r\n",
        "Problem: Inability to segment customer base using naked eye or physical labour, there is a need for big solutions for big data being created by customers\r\n",
        "\r\n",
        "Value : Understanding of the different clusters of customers the company has, with the understanding of the different metrics they have"
      ]
    },
    {
      "cell_type": "markdown",
      "metadata": {
        "id": "aOMoCkRkpxM_"
      },
      "source": [
        "## 1.2 Problem statement"
      ]
    },
    {
      "cell_type": "markdown",
      "metadata": {
        "id": "TN0w6fvmp1KR"
      },
      "source": [
        "Cluster customers on segments based on their behavior using the K-Means algorithm "
      ]
    },
    {
      "cell_type": "markdown",
      "metadata": {
        "id": "LaarNsg6I0GX"
      },
      "source": [
        "# 2. Imports"
      ]
    },
    {
      "cell_type": "code",
      "metadata": {
        "id": "ByXwf2Ber9QG"
      },
      "source": [
        "#imports\r\n",
        "import pandas as pd #for using dataframes\r\n",
        "import matplotlib.pyplot as plt #for plotting graphs\r\n",
        "import seaborn as sns #for plotting graphs\r\n",
        "import datetime as dt #for working with timestamps\r\n",
        "from datetime import datetime\r\n",
        "import datetime\r\n",
        "from scipy import stats #for use of managing skewness and stats \r\n",
        "import numpy as np # for dealing with numeric variables\r\n",
        "from sklearn.preprocessing import StandardScaler # to normalise the variables\r\n",
        "from sklearn.cluster import KMeans # for clustering"
      ],
      "execution_count": 1,
      "outputs": []
    },
    {
      "cell_type": "markdown",
      "metadata": {
        "id": "t_YGxrQvJVV8"
      },
      "source": [
        "# 3. Definitions"
      ]
    },
    {
      "cell_type": "markdown",
      "metadata": {
        "id": "_WhXB_8LrRA4"
      },
      "source": [
        "We will take the data from UCI Machine Learning called Online Retail dataset.\r\n",
        "The dataset itself is a transactional data that contains transactions from December 1st 2010 until December 9th 2011 for a UK-based online retail."
      ]
    },
    {
      "cell_type": "code",
      "metadata": {
        "id": "-hkY8wVuJBjI"
      },
      "source": [
        "#Read excel data into a pandas data frame 'df'\r\n",
        "df = pd.read_excel(r'/content/Online Retail.xlsx')"
      ],
      "execution_count": 2,
      "outputs": []
    },
    {
      "cell_type": "code",
      "metadata": {
        "colab": {
          "base_uri": "https://localhost:8080/",
          "height": 289
        },
        "id": "fbN0xi_WJjTB",
        "outputId": "18ee9f6f-fef8-48d1-fa21-5066e0f8c974"
      },
      "source": [
        "#View top 5 entries of the dataset\r\n",
        "df.head()"
      ],
      "execution_count": 3,
      "outputs": [
        {
          "output_type": "execute_result",
          "data": {
            "text/html": [
              "<div>\n",
              "<style scoped>\n",
              "    .dataframe tbody tr th:only-of-type {\n",
              "        vertical-align: middle;\n",
              "    }\n",
              "\n",
              "    .dataframe tbody tr th {\n",
              "        vertical-align: top;\n",
              "    }\n",
              "\n",
              "    .dataframe thead th {\n",
              "        text-align: right;\n",
              "    }\n",
              "</style>\n",
              "<table border=\"1\" class=\"dataframe\">\n",
              "  <thead>\n",
              "    <tr style=\"text-align: right;\">\n",
              "      <th></th>\n",
              "      <th>InvoiceNo</th>\n",
              "      <th>StockCode</th>\n",
              "      <th>Description</th>\n",
              "      <th>Quantity</th>\n",
              "      <th>InvoiceDate</th>\n",
              "      <th>UnitPrice</th>\n",
              "      <th>CustomerID</th>\n",
              "      <th>Country</th>\n",
              "    </tr>\n",
              "  </thead>\n",
              "  <tbody>\n",
              "    <tr>\n",
              "      <th>0</th>\n",
              "      <td>536365</td>\n",
              "      <td>85123A</td>\n",
              "      <td>WHITE HANGING HEART T-LIGHT HOLDER</td>\n",
              "      <td>6</td>\n",
              "      <td>2010-12-01 08:26:00</td>\n",
              "      <td>2.55</td>\n",
              "      <td>17850.0</td>\n",
              "      <td>United Kingdom</td>\n",
              "    </tr>\n",
              "    <tr>\n",
              "      <th>1</th>\n",
              "      <td>536365</td>\n",
              "      <td>71053</td>\n",
              "      <td>WHITE METAL LANTERN</td>\n",
              "      <td>6</td>\n",
              "      <td>2010-12-01 08:26:00</td>\n",
              "      <td>3.39</td>\n",
              "      <td>17850.0</td>\n",
              "      <td>United Kingdom</td>\n",
              "    </tr>\n",
              "    <tr>\n",
              "      <th>2</th>\n",
              "      <td>536365</td>\n",
              "      <td>84406B</td>\n",
              "      <td>CREAM CUPID HEARTS COAT HANGER</td>\n",
              "      <td>8</td>\n",
              "      <td>2010-12-01 08:26:00</td>\n",
              "      <td>2.75</td>\n",
              "      <td>17850.0</td>\n",
              "      <td>United Kingdom</td>\n",
              "    </tr>\n",
              "    <tr>\n",
              "      <th>3</th>\n",
              "      <td>536365</td>\n",
              "      <td>84029G</td>\n",
              "      <td>KNITTED UNION FLAG HOT WATER BOTTLE</td>\n",
              "      <td>6</td>\n",
              "      <td>2010-12-01 08:26:00</td>\n",
              "      <td>3.39</td>\n",
              "      <td>17850.0</td>\n",
              "      <td>United Kingdom</td>\n",
              "    </tr>\n",
              "    <tr>\n",
              "      <th>4</th>\n",
              "      <td>536365</td>\n",
              "      <td>84029E</td>\n",
              "      <td>RED WOOLLY HOTTIE WHITE HEART.</td>\n",
              "      <td>6</td>\n",
              "      <td>2010-12-01 08:26:00</td>\n",
              "      <td>3.39</td>\n",
              "      <td>17850.0</td>\n",
              "      <td>United Kingdom</td>\n",
              "    </tr>\n",
              "  </tbody>\n",
              "</table>\n",
              "</div>"
            ],
            "text/plain": [
              "  InvoiceNo StockCode  ... CustomerID         Country\n",
              "0    536365    85123A  ...    17850.0  United Kingdom\n",
              "1    536365     71053  ...    17850.0  United Kingdom\n",
              "2    536365    84406B  ...    17850.0  United Kingdom\n",
              "3    536365    84029G  ...    17850.0  United Kingdom\n",
              "4    536365    84029E  ...    17850.0  United Kingdom\n",
              "\n",
              "[5 rows x 8 columns]"
            ]
          },
          "metadata": {
            "tags": []
          },
          "execution_count": 3
        }
      ]
    },
    {
      "cell_type": "code",
      "metadata": {
        "colab": {
          "base_uri": "https://localhost:8080/"
        },
        "id": "t338MarErl6u",
        "outputId": "1d2f78f3-1529-4655-a19f-0070b1a27648"
      },
      "source": [
        "# Apply the info() method to see the contents of the data\r\n",
        "df.info()"
      ],
      "execution_count": 4,
      "outputs": [
        {
          "output_type": "stream",
          "text": [
            "<class 'pandas.core.frame.DataFrame'>\n",
            "RangeIndex: 541909 entries, 0 to 541908\n",
            "Data columns (total 8 columns):\n",
            " #   Column       Non-Null Count   Dtype         \n",
            "---  ------       --------------   -----         \n",
            " 0   InvoiceNo    541909 non-null  object        \n",
            " 1   StockCode    541909 non-null  object        \n",
            " 2   Description  540455 non-null  object        \n",
            " 3   Quantity     541909 non-null  int64         \n",
            " 4   InvoiceDate  541909 non-null  datetime64[ns]\n",
            " 5   UnitPrice    541909 non-null  float64       \n",
            " 6   CustomerID   406829 non-null  float64       \n",
            " 7   Country      541909 non-null  object        \n",
            "dtypes: datetime64[ns](1), float64(2), int64(1), object(4)\n",
            "memory usage: 33.1+ MB\n"
          ],
          "name": "stdout"
        }
      ]
    },
    {
      "cell_type": "markdown",
      "metadata": {
        "id": "GOLh6n8Yr569"
      },
      "source": [
        "*   **InvoiceNo**: Unique numbers generated by a business issuing an invoice to a client \r\n",
        "*   **StockCode**: Unique numbers that identifies an item of stock on a stock quotation scheme\r\n",
        "*   **Description**: Description of the product\r\n",
        "*   **Quantity**: The amount or number specific item (>0)\r\n",
        "*   **InvoiceDate**: Date Item was issued (YYYY-MM-DD HH:MM:SS)\r\n",
        "*   **UnitPrice**: Unit price is the price for a single unit of measure of a product sold \r\n",
        "*   **CustomerID**: unique number used to identify your customers\r\n",
        "*   **Country**: Country name of retail sales\r\n",
        "\r\n",
        "\r\n",
        "\r\n",
        "\r\n",
        "\r\n",
        "\r\n",
        "\r\n",
        "\r\n",
        "\r\n"
      ]
    },
    {
      "cell_type": "markdown",
      "metadata": {
        "id": "fjyBiI5yDggC"
      },
      "source": [
        "# 4. Data Prepocessing"
      ]
    },
    {
      "cell_type": "markdown",
      "metadata": {
        "id": "CxS2MBV-EDP3"
      },
      "source": [
        "There seems to be an issue partaining to the 'CustomerID' feature into the dataset, as it has less values (406829) compared to the rest of the features (541909). Due to this, we will look to do some data cleaning and removal of Null Values"
      ]
    },
    {
      "cell_type": "code",
      "metadata": {
        "id": "HntaL1P6E0au"
      },
      "source": [
        "#Remove all null values to select only customers with a customer ID \r\n",
        "df = df[df['CustomerID'].notna()]"
      ],
      "execution_count": 5,
      "outputs": []
    },
    {
      "cell_type": "markdown",
      "metadata": {
        "id": "bM8-hP9TFJUI"
      },
      "source": [
        "For the sake of using a localised environement and not a large virtual machine to run big data jobs, we will be using a subset of the data and make the assumption that a large enough sample will be representative of the data of al customers."
      ]
    },
    {
      "cell_type": "code",
      "metadata": {
        "colab": {
          "base_uri": "https://localhost:8080/"
        },
        "id": "40beSDb_E_jM",
        "outputId": "1e44e1ea-edd0-4d0c-cebe-aadc7426f496"
      },
      "source": [
        "#Use the sample to select a random sample of the data with the random_state set at 42\r\n",
        "df_sampled = df.sample(10000, random_state = 42)\r\n",
        "df_sampled.shape #View the shape of the new dataframe to see that we have 10000 data values"
      ],
      "execution_count": 6,
      "outputs": [
        {
          "output_type": "execute_result",
          "data": {
            "text/plain": [
              "(10000, 8)"
            ]
          },
          "metadata": {
            "tags": []
          },
          "execution_count": 6
        }
      ]
    },
    {
      "cell_type": "markdown",
      "metadata": {
        "id": "8twg_GimGZgd"
      },
      "source": [
        "# 5. RFM Table"
      ]
    },
    {
      "cell_type": "markdown",
      "metadata": {
        "id": "QKVuPOtTGhrB"
      },
      "source": [
        "RFM (Recency, Frequency, Monetary) analysis is a behavior-based approach grouping customers into segments. It groups the customers on the basis of their previous purchase transactions. How recently, how often, and how much did a customer buy. RFM filters customers into various groups for the purpose of better service.\r\n",
        "\r\n",
        "\r\n",
        "\r\n",
        "*   Recency (R): Who have purchased recently? Number of days since last purchase (least recency)\r\n",
        "*   Frequency (F): Who has purchased frequently? It means the total number of purchases. ( high frequency)\r\n",
        "*   Monetary Value (M): Who have high purchase amount? It means the total money customer spent (high monetary value)\r\n",
        "\r\n",
        "\r\n",
        "\r\n"
      ]
    },
    {
      "cell_type": "markdown",
      "metadata": {
        "id": "odOcKz7iHIXw"
      },
      "source": [
        "## 5.1 Create the RFM Table"
      ]
    },
    {
      "cell_type": "markdown",
      "metadata": {
        "id": "1OhcTBG4Hcob"
      },
      "source": [
        "RFM Analysis\r\n",
        "Here, you are going to perform following opertaions:\r\n",
        "\r\n",
        "*   For Recency, Calculate the number of days between present date and date of last purchase each customer.\r\n",
        "*   For Frequency, Calculate the number of orders for each customer.\r\n",
        "*   For Monetary, Calculate sum of purchase price for each customer.\r\n",
        "\r\n",
        "\r\n",
        "\r\n",
        "\r\n"
      ]
    },
    {
      "cell_type": "code",
      "metadata": {
        "id": "gaj_-upoHTPr"
      },
      "source": [
        "# Convert the InvoiceDate to only show the date of the purchase\r\n",
        "df_sampled[\"InvoiceDate\"] = df_sampled[\"InvoiceDate\"].dt.date"
      ],
      "execution_count": 7,
      "outputs": []
    },
    {
      "cell_type": "code",
      "metadata": {
        "id": "_cT3GQeuH_ch"
      },
      "source": [
        "# Create a new TotalSum column for the total amount a customer purchased\r\n",
        "df_sampled[\"TotalSum\"] = df_sampled[\"Quantity\"] * df_sampled[\"UnitPrice\"]\r\n",
        "\r\n",
        "# Create date variable that records recency\r\n",
        "snapshot_date = max(df_sampled.InvoiceDate) + datetime.timedelta(days=1)"
      ],
      "execution_count": 8,
      "outputs": []
    },
    {
      "cell_type": "code",
      "metadata": {
        "id": "_2biXNiHJYrE"
      },
      "source": [
        "# Find all aggregated sum of all the data of the customers\r\n",
        "customer_agg = df_sampled.groupby(['CustomerID']).agg({\r\n",
        "    'InvoiceDate': lambda x: (snapshot_date - x.max()).days,\r\n",
        "    'InvoiceNo': 'count',\r\n",
        "    'TotalSum': 'sum'})"
      ],
      "execution_count": 9,
      "outputs": []
    },
    {
      "cell_type": "code",
      "metadata": {
        "id": "wjowEuRCJmCi"
      },
      "source": [
        "# Rename all the columns to rcency, frequency and MonetaryValue\r\n",
        "customer_agg.rename(columns = {'InvoiceDate': 'Recency',\r\n",
        "                            'InvoiceNo': 'Frequency',\r\n",
        "                            'TotalSum': 'MonetaryValue'}, inplace=True)"
      ],
      "execution_count": 10,
      "outputs": []
    },
    {
      "cell_type": "code",
      "metadata": {
        "colab": {
          "base_uri": "https://localhost:8080/",
          "height": 235
        },
        "id": "Gh7C8KdgJvAp",
        "outputId": "773e8103-36f5-4ff8-f6fa-8ca2ac2702e5"
      },
      "source": [
        "#Show top 5 values of our new RFM Table\r\n",
        "customer_agg.head()"
      ],
      "execution_count": 11,
      "outputs": [
        {
          "output_type": "execute_result",
          "data": {
            "text/html": [
              "<div>\n",
              "<style scoped>\n",
              "    .dataframe tbody tr th:only-of-type {\n",
              "        vertical-align: middle;\n",
              "    }\n",
              "\n",
              "    .dataframe tbody tr th {\n",
              "        vertical-align: top;\n",
              "    }\n",
              "\n",
              "    .dataframe thead th {\n",
              "        text-align: right;\n",
              "    }\n",
              "</style>\n",
              "<table border=\"1\" class=\"dataframe\">\n",
              "  <thead>\n",
              "    <tr style=\"text-align: right;\">\n",
              "      <th></th>\n",
              "      <th>Recency</th>\n",
              "      <th>Frequency</th>\n",
              "      <th>MonetaryValue</th>\n",
              "    </tr>\n",
              "    <tr>\n",
              "      <th>CustomerID</th>\n",
              "      <th></th>\n",
              "      <th></th>\n",
              "      <th></th>\n",
              "    </tr>\n",
              "  </thead>\n",
              "  <tbody>\n",
              "    <tr>\n",
              "      <th>12347.0</th>\n",
              "      <td>40</td>\n",
              "      <td>5</td>\n",
              "      <td>133.20</td>\n",
              "    </tr>\n",
              "    <tr>\n",
              "      <th>12348.0</th>\n",
              "      <td>249</td>\n",
              "      <td>2</td>\n",
              "      <td>120.88</td>\n",
              "    </tr>\n",
              "    <tr>\n",
              "      <th>12349.0</th>\n",
              "      <td>19</td>\n",
              "      <td>2</td>\n",
              "      <td>312.75</td>\n",
              "    </tr>\n",
              "    <tr>\n",
              "      <th>12352.0</th>\n",
              "      <td>73</td>\n",
              "      <td>5</td>\n",
              "      <td>80.85</td>\n",
              "    </tr>\n",
              "    <tr>\n",
              "      <th>12354.0</th>\n",
              "      <td>233</td>\n",
              "      <td>2</td>\n",
              "      <td>33.30</td>\n",
              "    </tr>\n",
              "  </tbody>\n",
              "</table>\n",
              "</div>"
            ],
            "text/plain": [
              "            Recency  Frequency  MonetaryValue\n",
              "CustomerID                                   \n",
              "12347.0          40          5         133.20\n",
              "12348.0         249          2         120.88\n",
              "12349.0          19          2         312.75\n",
              "12352.0          73          5          80.85\n",
              "12354.0         233          2          33.30"
            ]
          },
          "metadata": {
            "tags": []
          },
          "execution_count": 11
        }
      ]
    },
    {
      "cell_type": "markdown",
      "metadata": {
        "id": "CFNxLhYiWEED"
      },
      "source": [
        "## 6. Managing skewness of the data and variable scaling"
      ]
    },
    {
      "cell_type": "markdown",
      "metadata": {
        "id": "m10bFwqpjpfn"
      },
      "source": [
        "When dealing with data, we have to make sure that it meets the assumption where the variables are not skewed and have the same mean and variance. Due to this, we have to manage the skewness of the data\r\n",
        "\r\n",
        "There are ways to manage skewness of the data, which includes \r\n",
        "\r\n",
        "\r\n",
        "*  Log transformation\r\n",
        "*  Square root transformation\r\n",
        "*  Box-cox transformation\r\n",
        "\r\n",
        "When it comes to transformation of the data, we can only use the transformation of the data if and only if the values of the data are positive\r\n",
        "\r\n",
        "\r\n",
        "\r\n"
      ]
    },
    {
      "cell_type": "code",
      "metadata": {
        "colab": {
          "base_uri": "https://localhost:8080/",
          "height": 322
        },
        "id": "Ef38BsB6lial",
        "outputId": "a5fd1c39-f91e-4866-b900-7c98bd670b4e"
      },
      "source": [
        "# Create distribution plots of out RFM table values to see the skewness of the data\r\n",
        "fig, ax = plt.subplots(1, 3, figsize=(15,3))\r\n",
        "sns.distplot(customer_agg['Recency'], ax=ax[0]) # Distribution plot for the recency\r\n",
        "sns.distplot(customer_agg['Frequency'], ax=ax[1]) # Distribution plot for the frequency\r\n",
        "sns.distplot(customer_agg['MonetaryValue'], ax=ax[2]) # Distribution plot for the Monetary Value\r\n",
        "plt.tight_layout()\r\n",
        "plt.show()"
      ],
      "execution_count": 12,
      "outputs": [
        {
          "output_type": "stream",
          "text": [
            "/usr/local/lib/python3.6/dist-packages/seaborn/distributions.py:2557: FutureWarning: `distplot` is a deprecated function and will be removed in a future version. Please adapt your code to use either `displot` (a figure-level function with similar flexibility) or `histplot` (an axes-level function for histograms).\n",
            "  warnings.warn(msg, FutureWarning)\n",
            "/usr/local/lib/python3.6/dist-packages/seaborn/distributions.py:2557: FutureWarning: `distplot` is a deprecated function and will be removed in a future version. Please adapt your code to use either `displot` (a figure-level function with similar flexibility) or `histplot` (an axes-level function for histograms).\n",
            "  warnings.warn(msg, FutureWarning)\n",
            "/usr/local/lib/python3.6/dist-packages/seaborn/distributions.py:2557: FutureWarning: `distplot` is a deprecated function and will be removed in a future version. Please adapt your code to use either `displot` (a figure-level function with similar flexibility) or `histplot` (an axes-level function for histograms).\n",
            "  warnings.warn(msg, FutureWarning)\n"
          ],
          "name": "stderr"
        },
        {
          "output_type": "display_data",
          "data": {
            "image/png": "[encoded data removed]",
            "text/plain": [
              "<Figure size 1080x216 with 3 Axes>"
            ]
          },
          "metadata": {
            "tags": [],
            "needs_background": "light"
          }
        }
      ]
    },
    {
      "cell_type": "markdown",
      "metadata": {
        "id": "mylN9aOOmI31"
      },
      "source": [
        "As we can see on all three plots, the values all contain a left skewness to its values. Since the values are not closer and more centered around the value of the mean, we will look to transform all three valiables. We will thus perform all three transformations to the data to see which transformations are to be made"
      ]
    },
    {
      "cell_type": "code",
      "metadata": {
        "id": "pVaSHuXqlnEO"
      },
      "source": [
        "def skewness(column):\r\n",
        "  \"\"\"Fuction that returns a distribution plot of the original, log transformation, square root transformation and box-cox transformation\r\n",
        "  Parameters\r\n",
        "  ----------\r\n",
        "  column: String\r\n",
        "            Name of the dataframe column\r\n",
        "  Returns\r\n",
        "  -------\r\n",
        "  plt.show(): Seaborn Distribution Plots\r\n",
        "           Four Distribution plots of the data values and subsequent tranformations of the data\r\n",
        "\r\n",
        "  \"\"\"\r\n",
        "  fig, ax = plt.subplots(2, 2, figsize=(5,5))\r\n",
        "  sns.distplot(customer_agg[column], ax=ax[0,0])\r\n",
        "  sns.distplot(np.log(customer_agg[column]), ax=ax[0,1])\r\n",
        "  sns.distplot(np.sqrt(customer_agg[column]), ax=ax[1,0])\r\n",
        "  sns.distplot(stats.boxcox(customer_agg[column])[0], ax=ax[1,1])\r\n",
        "  plt.tight_layout()\r\n",
        "  plt.show()\r\n",
        "    \r\n",
        "  print(customer_agg[column].skew().round(2))\r\n",
        "  print(np.log(customer_agg[column]).skew().round(2))\r\n",
        "  print(np.sqrt(customer_agg[column]).skew().round(2))\r\n",
        "  print(pd.Series(stats.boxcox(customer_agg[column])[0]).skew().round(2))"
      ],
      "execution_count": 13,
      "outputs": []
    },
    {
      "cell_type": "markdown",
      "metadata": {
        "id": "D8b4DzNtplUM"
      },
      "source": [
        "The above function will return four distribution plots displaying the original data (which will appear on the top left), with the subsequent distributions of each transformation to help us analyse which variables need to be transformed in what way.\r\n",
        "\r\n",
        "The function will also calculate the skewness value of each trasnformation, and the closer value to 0 is more symmetrical"
      ]
    },
    {
      "cell_type": "markdown",
      "metadata": {
        "id": "p8qU2gXdpHAp"
      },
      "source": [
        "### 6.1 Recency skewness"
      ]
    },
    {
      "cell_type": "code",
      "metadata": {
        "colab": {
          "base_uri": "https://localhost:8080/",
          "height": 593
        },
        "id": "0c_8sO0GpOHf",
        "outputId": "3cbd8320-0aab-4251-86c4-14776c9ba3d9"
      },
      "source": [
        "skewness('Recency')"
      ],
      "execution_count": 14,
      "outputs": [
        {
          "output_type": "stream",
          "text": [
            "/usr/local/lib/python3.6/dist-packages/seaborn/distributions.py:2557: FutureWarning: `distplot` is a deprecated function and will be removed in a future version. Please adapt your code to use either `displot` (a figure-level function with similar flexibility) or `histplot` (an axes-level function for histograms).\n",
            "  warnings.warn(msg, FutureWarning)\n",
            "/usr/local/lib/python3.6/dist-packages/seaborn/distributions.py:2557: FutureWarning: `distplot` is a deprecated function and will be removed in a future version. Please adapt your code to use either `displot` (a figure-level function with similar flexibility) or `histplot` (an axes-level function for histograms).\n",
            "  warnings.warn(msg, FutureWarning)\n",
            "/usr/local/lib/python3.6/dist-packages/seaborn/distributions.py:2557: FutureWarning: `distplot` is a deprecated function and will be removed in a future version. Please adapt your code to use either `displot` (a figure-level function with similar flexibility) or `histplot` (an axes-level function for histograms).\n",
            "  warnings.warn(msg, FutureWarning)\n",
            "/usr/local/lib/python3.6/dist-packages/seaborn/distributions.py:2557: FutureWarning: `distplot` is a deprecated function and will be removed in a future version. Please adapt your code to use either `displot` (a figure-level function with similar flexibility) or `histplot` (an axes-level function for histograms).\n",
            "  warnings.warn(msg, FutureWarning)\n"
          ],
          "name": "stderr"
        },
        {
          "output_type": "display_data",
          "data": {
            "image/png": "[encoded data removed]",
            "text/plain": [
              "<Figure size 360x360 with 4 Axes>"
            ]
          },
          "metadata": {
            "tags": [],
            "needs_background": "light"
          }
        },
        {
          "output_type": "stream",
          "text": [
            "0.93\n",
            "-0.72\n",
            "0.32\n",
            "-0.1\n"
          ],
          "name": "stdout"
        }
      ]
    },
    {
      "cell_type": "markdown",
      "metadata": {
        "id": "vknGDP-7qXYM"
      },
      "source": [
        "When we evaluate the skewness that arises from the Recency values and trasnformations, when we use an eye test, we see the box-cox trasnformation has a far more symmetrical look to the data (which is the ideal way). To also make sure, we calculated the skewness values in the fuction.\r\n",
        "\r\n",
        "It also has a skewness value of -0.1 (which seems to be closer to 0 than any other trasnformation)"
      ]
    },
    {
      "cell_type": "markdown",
      "metadata": {
        "id": "D1-3EYTgrmv3"
      },
      "source": [
        "### 6.2 Frequency Skewness"
      ]
    },
    {
      "cell_type": "code",
      "metadata": {
        "colab": {
          "base_uri": "https://localhost:8080/",
          "height": 593
        },
        "id": "neQ5-Wclo51O",
        "outputId": "eb95f2a3-30d7-46d9-e828-06466679f2c6"
      },
      "source": [
        "skewness('Frequency')"
      ],
      "execution_count": 15,
      "outputs": [
        {
          "output_type": "stream",
          "text": [
            "/usr/local/lib/python3.6/dist-packages/seaborn/distributions.py:2557: FutureWarning: `distplot` is a deprecated function and will be removed in a future version. Please adapt your code to use either `displot` (a figure-level function with similar flexibility) or `histplot` (an axes-level function for histograms).\n",
            "  warnings.warn(msg, FutureWarning)\n",
            "/usr/local/lib/python3.6/dist-packages/seaborn/distributions.py:2557: FutureWarning: `distplot` is a deprecated function and will be removed in a future version. Please adapt your code to use either `displot` (a figure-level function with similar flexibility) or `histplot` (an axes-level function for histograms).\n",
            "  warnings.warn(msg, FutureWarning)\n",
            "/usr/local/lib/python3.6/dist-packages/seaborn/distributions.py:2557: FutureWarning: `distplot` is a deprecated function and will be removed in a future version. Please adapt your code to use either `displot` (a figure-level function with similar flexibility) or `histplot` (an axes-level function for histograms).\n",
            "  warnings.warn(msg, FutureWarning)\n",
            "/usr/local/lib/python3.6/dist-packages/seaborn/distributions.py:2557: FutureWarning: `distplot` is a deprecated function and will be removed in a future version. Please adapt your code to use either `displot` (a figure-level function with similar flexibility) or `histplot` (an axes-level function for histograms).\n",
            "  warnings.warn(msg, FutureWarning)\n"
          ],
          "name": "stderr"
        },
        {
          "output_type": "display_data",
          "data": {
            "image/png": "[encoded data removed]",
            "text/plain": [
              "<Figure size 360x360 with 4 Axes>"
            ]
          },
          "metadata": {
            "tags": [],
            "needs_background": "light"
          }
        },
        {
          "output_type": "stream",
          "text": [
            "14.77\n",
            "0.85\n",
            "3.67\n",
            "0.16\n"
          ],
          "name": "stdout"
        }
      ]
    },
    {
      "cell_type": "markdown",
      "metadata": {
        "id": "1G5UY9eCr59S"
      },
      "source": [
        "Similar to the Recency transformations, when we use the eye test, the values of the box-cox trasnformation has a more symmertrical look. \r\n",
        "\r\n",
        "To evalue the skewness value, we also see the box-cox trasnformation value has a skewness value of 0.16 which is the closest to 0"
      ]
    },
    {
      "cell_type": "markdown",
      "metadata": {
        "id": "jOoDJ9JysyKW"
      },
      "source": [
        "### 6.3 MonetaryValue"
      ]
    },
    {
      "cell_type": "code",
      "metadata": {
        "colab": {
          "base_uri": "https://localhost:8080/",
          "height": 297
        },
        "id": "w5NKECkzr3-v",
        "outputId": "c212cb2d-611c-4290-fc29-ac460461be36"
      },
      "source": [
        "# See the summary statistics of the RFM table\r\n",
        "customer_agg.describe()"
      ],
      "execution_count": 16,
      "outputs": [
        {
          "output_type": "execute_result",
          "data": {
            "text/html": [
              "<div>\n",
              "<style scoped>\n",
              "    .dataframe tbody tr th:only-of-type {\n",
              "        vertical-align: middle;\n",
              "    }\n",
              "\n",
              "    .dataframe tbody tr th {\n",
              "        vertical-align: top;\n",
              "    }\n",
              "\n",
              "    .dataframe thead th {\n",
              "        text-align: right;\n",
              "    }\n",
              "</style>\n",
              "<table border=\"1\" class=\"dataframe\">\n",
              "  <thead>\n",
              "    <tr style=\"text-align: right;\">\n",
              "      <th></th>\n",
              "      <th>Recency</th>\n",
              "      <th>Frequency</th>\n",
              "      <th>MonetaryValue</th>\n",
              "    </tr>\n",
              "  </thead>\n",
              "  <tbody>\n",
              "    <tr>\n",
              "      <th>count</th>\n",
              "      <td>2690.000000</td>\n",
              "      <td>2690.000000</td>\n",
              "      <td>2690.000000</td>\n",
              "    </tr>\n",
              "    <tr>\n",
              "      <th>mean</th>\n",
              "      <td>110.934201</td>\n",
              "      <td>3.717472</td>\n",
              "      <td>73.625743</td>\n",
              "    </tr>\n",
              "    <tr>\n",
              "      <th>std</th>\n",
              "      <td>102.377871</td>\n",
              "      <td>7.176189</td>\n",
              "      <td>254.950467</td>\n",
              "    </tr>\n",
              "    <tr>\n",
              "      <th>min</th>\n",
              "      <td>1.000000</td>\n",
              "      <td>1.000000</td>\n",
              "      <td>-419.400000</td>\n",
              "    </tr>\n",
              "    <tr>\n",
              "      <th>25%</th>\n",
              "      <td>27.000000</td>\n",
              "      <td>1.000000</td>\n",
              "      <td>14.850000</td>\n",
              "    </tr>\n",
              "    <tr>\n",
              "      <th>50%</th>\n",
              "      <td>72.000000</td>\n",
              "      <td>2.000000</td>\n",
              "      <td>30.000000</td>\n",
              "    </tr>\n",
              "    <tr>\n",
              "      <th>75%</th>\n",
              "      <td>179.750000</td>\n",
              "      <td>4.000000</td>\n",
              "      <td>67.622500</td>\n",
              "    </tr>\n",
              "    <tr>\n",
              "      <th>max</th>\n",
              "      <td>374.000000</td>\n",
              "      <td>203.000000</td>\n",
              "      <td>6828.280000</td>\n",
              "    </tr>\n",
              "  </tbody>\n",
              "</table>\n",
              "</div>"
            ],
            "text/plain": [
              "           Recency    Frequency  MonetaryValue\n",
              "count  2690.000000  2690.000000    2690.000000\n",
              "mean    110.934201     3.717472      73.625743\n",
              "std     102.377871     7.176189     254.950467\n",
              "min       1.000000     1.000000    -419.400000\n",
              "25%      27.000000     1.000000      14.850000\n",
              "50%      72.000000     2.000000      30.000000\n",
              "75%     179.750000     4.000000      67.622500\n",
              "max     374.000000   203.000000    6828.280000"
            ]
          },
          "metadata": {
            "tags": []
          },
          "execution_count": 16
        }
      ]
    },
    {
      "cell_type": "markdown",
      "metadata": {
        "id": "DLcNp5ffsjoH"
      },
      "source": [
        "As we have evaluated from above, the MonetaryValue has a minimum value of -419.4 which goes against some of the previous transformation rule where trasnformations can only be done on values which are positive ( above 0). \r\n",
        "\r\n",
        "The one way we can thus tranform negative values for the Monetary Value variable is to apply a cubic trasnformation as should below"
      ]
    },
    {
      "cell_type": "code",
      "metadata": {
        "colab": {
          "base_uri": "https://localhost:8080/",
          "height": 347
        },
        "id": "-E-F5LOJsanE",
        "outputId": "106e8c7f-ce28-4ad1-a12f-d132b357c199"
      },
      "source": [
        "# Create a displot and cubic trasnformation of the MonetaryValue variable\r\n",
        "fig, ax = plt.subplots(1, 2, figsize=(10,3))\r\n",
        "sns.distplot(customer_agg['MonetaryValue'], ax=ax[0])\r\n",
        "sns.distplot(np.cbrt(customer_agg['MonetaryValue']), ax=ax[1])\r\n",
        "plt.show()\r\n",
        "print(customer_agg['MonetaryValue'].skew().round(2))\r\n",
        "print(np.cbrt(customer_agg['MonetaryValue']).skew().round(2))"
      ],
      "execution_count": 17,
      "outputs": [
        {
          "output_type": "stream",
          "text": [
            "/usr/local/lib/python3.6/dist-packages/seaborn/distributions.py:2557: FutureWarning: `distplot` is a deprecated function and will be removed in a future version. Please adapt your code to use either `displot` (a figure-level function with similar flexibility) or `histplot` (an axes-level function for histograms).\n",
            "  warnings.warn(msg, FutureWarning)\n",
            "/usr/local/lib/python3.6/dist-packages/seaborn/distributions.py:2557: FutureWarning: `distplot` is a deprecated function and will be removed in a future version. Please adapt your code to use either `displot` (a figure-level function with similar flexibility) or `histplot` (an axes-level function for histograms).\n",
            "  warnings.warn(msg, FutureWarning)\n"
          ],
          "name": "stderr"
        },
        {
          "output_type": "display_data",
          "data": {
            "image/png": "[encoded data removed]",
            "text/plain": [
              "<Figure size 720x216 with 2 Axes>"
            ]
          },
          "metadata": {
            "tags": [],
            "needs_background": "light"
          }
        },
        {
          "output_type": "stream",
          "text": [
            "16.63\n",
            "1.16\n"
          ],
          "name": "stdout"
        }
      ]
    },
    {
      "cell_type": "markdown",
      "metadata": {
        "id": "DcwNyQq7taun"
      },
      "source": [
        "The cubic transformation gives us a more symmetrical plot of values than the original, with a skewness value significantly lower at 1.16 as compared to the original of 16.63"
      ]
    },
    {
      "cell_type": "markdown",
      "metadata": {
        "id": "8QWEMA4mH6-A"
      },
      "source": [
        "### 6.4 Variable scaling"
      ]
    },
    {
      "cell_type": "markdown",
      "metadata": {
        "id": "_M7iI1W-ICcQ"
      },
      "source": [
        "We will now scale the data according to the above mentioned transformations for each variable"
      ]
    },
    {
      "cell_type": "code",
      "metadata": {
        "colab": {
          "base_uri": "https://localhost:8080/",
          "height": 204
        },
        "id": "O96nhGjHtYWD",
        "outputId": "6b838037-ef91-488e-876e-a15c2eb02de6"
      },
      "source": [
        "# Create new dataframe with new trasformed numbers of the RFM table\r\n",
        "customers_rfm = pd.DataFrame() # Create new dataframe for new values\r\n",
        "customers_rfm[\"Recency\"] = stats.boxcox(customer_agg['Recency'])[0] # Transform Recency with boxcox\r\n",
        "customers_rfm[\"Frequency\"] = stats.boxcox(customer_agg['Frequency'])[0] #Transform  Frequency with boxcox \r\n",
        "customers_rfm[\"MonetaryValue\"] = pd.Series(np.cbrt(customer_agg['MonetaryValue'])).values # Transform values with cubic transformation\r\n",
        "customers_rfm.head()"
      ],
      "execution_count": 18,
      "outputs": [
        {
          "output_type": "execute_result",
          "data": {
            "text/html": [
              "<div>\n",
              "<style scoped>\n",
              "    .dataframe tbody tr th:only-of-type {\n",
              "        vertical-align: middle;\n",
              "    }\n",
              "\n",
              "    .dataframe tbody tr th {\n",
              "        vertical-align: top;\n",
              "    }\n",
              "\n",
              "    .dataframe thead th {\n",
              "        text-align: right;\n",
              "    }\n",
              "</style>\n",
              "<table border=\"1\" class=\"dataframe\">\n",
              "  <thead>\n",
              "    <tr style=\"text-align: right;\">\n",
              "      <th></th>\n",
              "      <th>Recency</th>\n",
              "      <th>Frequency</th>\n",
              "      <th>MonetaryValue</th>\n",
              "    </tr>\n",
              "  </thead>\n",
              "  <tbody>\n",
              "    <tr>\n",
              "      <th>0</th>\n",
              "      <td>6.152222</td>\n",
              "      <td>1.127547</td>\n",
              "      <td>5.107026</td>\n",
              "    </tr>\n",
              "    <tr>\n",
              "      <th>1</th>\n",
              "      <td>12.180045</td>\n",
              "      <td>0.591193</td>\n",
              "      <td>4.944452</td>\n",
              "    </tr>\n",
              "    <tr>\n",
              "      <th>2</th>\n",
              "      <td>4.402867</td>\n",
              "      <td>0.591193</td>\n",
              "      <td>6.787853</td>\n",
              "    </tr>\n",
              "    <tr>\n",
              "      <th>3</th>\n",
              "      <td>7.832068</td>\n",
              "      <td>1.127547</td>\n",
              "      <td>4.324076</td>\n",
              "    </tr>\n",
              "    <tr>\n",
              "      <th>4</th>\n",
              "      <td>11.907953</td>\n",
              "      <td>0.591193</td>\n",
              "      <td>3.217225</td>\n",
              "    </tr>\n",
              "  </tbody>\n",
              "</table>\n",
              "</div>"
            ],
            "text/plain": [
              "     Recency  Frequency  MonetaryValue\n",
              "0   6.152222   1.127547       5.107026\n",
              "1  12.180045   0.591193       4.944452\n",
              "2   4.402867   0.591193       6.787853\n",
              "3   7.832068   1.127547       4.324076\n",
              "4  11.907953   0.591193       3.217225"
            ]
          },
          "metadata": {
            "tags": []
          },
          "execution_count": 18
        }
      ]
    },
    {
      "cell_type": "markdown",
      "metadata": {
        "id": "xsbankz1O1fZ"
      },
      "source": [
        "## 6.5 Centering Values"
      ]
    },
    {
      "cell_type": "markdown",
      "metadata": {
        "id": "XQgDGQi8PDGG"
      },
      "source": [
        "As we can tell from the last five entries of the new RFM table, we can see that the means and standard deviations do not have the same variance and same mean, we have to thus standardise the values through normalising the data (which will make all variables have a mean of 0 and standard deviation of 1). We will perform this using the scikit-learn library"
      ]
    },
    {
      "cell_type": "code",
      "metadata": {
        "colab": {
          "base_uri": "https://localhost:8080/"
        },
        "id": "2ihJ4-DuOpVA",
        "outputId": "c66255d0-1809-4ebb-fd4a-cf0fb4f6c2f6"
      },
      "source": [
        "# Use the scikit-learn StandardScaler to scale the variables to have mean of 0 and standard deviation of 1\r\n",
        "scaler = StandardScaler() # Call the standard scaler object\r\n",
        "\r\n",
        "scaler.fit(customers_rfm) # Fit the data of the new rfm to scale the data\r\n",
        "\r\n",
        "normalised_rfm = scaler.transform(customers_rfm) # Transform the data to have mean 0 and standard deviation of 1\r\n",
        "\r\n",
        "print(normalised_rfm.mean(axis = 0).round(2)) # Print new normalised variables means\r\n",
        "print(normalised_rfm.std(axis = 0).round(2)) #Print new variables standard deviation to test"
      ],
      "execution_count": 19,
      "outputs": [
        {
          "output_type": "stream",
          "text": [
            "[ 0. -0.  0.]\n",
            "[1. 1. 1.]\n"
          ],
          "name": "stdout"
        }
      ]
    },
    {
      "cell_type": "code",
      "metadata": {
        "colab": {
          "base_uri": "https://localhost:8080/",
          "height": 204
        },
        "id": "MmnE-0n_Qrtj",
        "outputId": "4073f4cf-e563-424d-8919-5807f0389c4e"
      },
      "source": [
        "# Display the head of the normalised data\r\n",
        "pd.DataFrame(normalised_rfm).tail()"
      ],
      "execution_count": 20,
      "outputs": [
        {
          "output_type": "execute_result",
          "data": {
            "text/html": [
              "<div>\n",
              "<style scoped>\n",
              "    .dataframe tbody tr th:only-of-type {\n",
              "        vertical-align: middle;\n",
              "    }\n",
              "\n",
              "    .dataframe tbody tr th {\n",
              "        vertical-align: top;\n",
              "    }\n",
              "\n",
              "    .dataframe thead th {\n",
              "        text-align: right;\n",
              "    }\n",
              "</style>\n",
              "<table border=\"1\" class=\"dataframe\">\n",
              "  <thead>\n",
              "    <tr style=\"text-align: right;\">\n",
              "      <th></th>\n",
              "      <th>0</th>\n",
              "      <th>1</th>\n",
              "      <th>2</th>\n",
              "    </tr>\n",
              "  </thead>\n",
              "  <tbody>\n",
              "    <tr>\n",
              "      <th>2685</th>\n",
              "      <td>-0.012582</td>\n",
              "      <td>-0.017412</td>\n",
              "      <td>0.052265</td>\n",
              "    </tr>\n",
              "    <tr>\n",
              "      <th>2686</th>\n",
              "      <td>-1.892510</td>\n",
              "      <td>1.603908</td>\n",
              "      <td>1.472436</td>\n",
              "    </tr>\n",
              "    <tr>\n",
              "      <th>2687</th>\n",
              "      <td>-1.027712</td>\n",
              "      <td>-0.017412</td>\n",
              "      <td>-2.833266</td>\n",
              "    </tr>\n",
              "    <tr>\n",
              "      <th>2688</th>\n",
              "      <td>-1.779053</td>\n",
              "      <td>1.949001</td>\n",
              "      <td>0.543657</td>\n",
              "    </tr>\n",
              "    <tr>\n",
              "      <th>2689</th>\n",
              "      <td>-0.439802</td>\n",
              "      <td>0.801023</td>\n",
              "      <td>0.437980</td>\n",
              "    </tr>\n",
              "  </tbody>\n",
              "</table>\n",
              "</div>"
            ],
            "text/plain": [
              "             0         1         2\n",
              "2685 -0.012582 -0.017412  0.052265\n",
              "2686 -1.892510  1.603908  1.472436\n",
              "2687 -1.027712 -0.017412 -2.833266\n",
              "2688 -1.779053  1.949001  0.543657\n",
              "2689 -0.439802  0.801023  0.437980"
            ]
          },
          "metadata": {
            "tags": []
          },
          "execution_count": 20
        }
      ]
    },
    {
      "cell_type": "markdown",
      "metadata": {
        "id": "IUzp0VPCQ7BR"
      },
      "source": [
        "We can now perform clustering of the data effectively"
      ]
    },
    {
      "cell_type": "markdown",
      "metadata": {
        "id": "5xgMUvaMRI1o"
      },
      "source": [
        "# 7. Data Clustering"
      ]
    },
    {
      "cell_type": "markdown",
      "metadata": {
        "id": "ngmb5pxYRvFh"
      },
      "source": [
        "We have now gone through the process of preprocessing the data, and now we aim to segment the data. We will use a K-Means clustering algorithm to do this\r\n",
        "\r\n",
        "k-means clustering is a method of vector quantization, originally from signal processing, that aims to partition n observations into k clusters in which each observation belongs to the cluster with the nearest mean (cluster centers or cluster centroid), serving as a prototype of the cluster.\r\n",
        "\r\n",
        "To get the best out of our model using K-Means, we have to know how to select the best K, which will be done using th elbow method, which is a method consists of plotting the explained variation as a function of the number of clusters, and picking the elbow of the curve as the number of clusters to use"
      ]
    },
    {
      "cell_type": "code",
      "metadata": {
        "colab": {
          "base_uri": "https://localhost:8080/",
          "height": 295
        },
        "id": "YexUbED_QyEZ",
        "outputId": "15042518-15fc-48c5-95f2-913b0d4fbb44"
      },
      "source": [
        "sse = {}\r\n",
        "for k in range(1, 11):\r\n",
        "    kmeans = KMeans(n_clusters=k, random_state=42)\r\n",
        "    kmeans.fit(normalised_rfm)\r\n",
        "    sse[k] = kmeans.inertia_ # SSE to closest cluster centroid\r\n",
        "plt.title('The Elbow Method')\r\n",
        "plt.xlabel('k')\r\n",
        "plt.ylabel('SSE')\r\n",
        "sns.pointplot(x=list(sse.keys()), y=list(sse.values()))\r\n",
        "plt.show()"
      ],
      "execution_count": 21,
      "outputs": [
        {
          "output_type": "display_data",
          "data": {
            "image/png": "[encoded data removed]",
            "text/plain": [
              "<Figure size 432x288 with 1 Axes>"
            ]
          },
          "metadata": {
            "tags": [],
            "needs_background": "light"
          }
        }
      ]
    },
    {
      "cell_type": "markdown",
      "metadata": {
        "id": "MRhuHKV1X7Wc"
      },
      "source": [
        "The different values of K appear on the X-axis. Where the sum of squared error appears on the y-axis. We want to select the K-value where the line starts to become straight or linear. Looking at the plot, the best value of K is 3. We will now cluster the customers into 3 clusters"
      ]
    },
    {
      "cell_type": "code",
      "metadata": {
        "colab": {
          "base_uri": "https://localhost:8080/"
        },
        "id": "wooyut2uT-Bt",
        "outputId": "686c1866-5588-4225-ac51-59f0eb66ba39"
      },
      "source": [
        "# Fit model to 3 K clusters \r\n",
        "model = KMeans(n_clusters=3, random_state=42)\r\n",
        "model.fit(normalised_rfm)\r\n",
        "model.labels_.shape"
      ],
      "execution_count": 22,
      "outputs": [
        {
          "output_type": "execute_result",
          "data": {
            "text/plain": [
              "(2690,)"
            ]
          },
          "metadata": {
            "tags": []
          },
          "execution_count": 22
        }
      ]
    },
    {
      "cell_type": "code",
      "metadata": {
        "colab": {
          "base_uri": "https://localhost:8080/"
        },
        "id": "n28qoteVbnKn",
        "outputId": "b792ab03-c1d8-4872-fc1d-0a0fee6ce7ea"
      },
      "source": [
        "#Show shape of original RFM table\r\n",
        "customer_agg.shape"
      ],
      "execution_count": 23,
      "outputs": [
        {
          "output_type": "execute_result",
          "data": {
            "text/plain": [
              "(2690, 3)"
            ]
          },
          "metadata": {
            "tags": []
          },
          "execution_count": 23
        }
      ]
    },
    {
      "cell_type": "markdown",
      "metadata": {
        "id": "xKp1Kw9Vca7p"
      },
      "source": [
        "As we can see the original RFM table follows the same shape of the normalised_rfm table we have create from the transformed values of the customer RFM. The labels need to be added to the original RFM table and we can finally classify the different clusters each customer belongs to and intepret from our findings the characteristics of each cluster"
      ]
    },
    {
      "cell_type": "markdown",
      "metadata": {
        "id": "ofY43Z37dJ4Q"
      },
      "source": [
        "## 8. Interpret the results"
      ]
    },
    {
      "cell_type": "markdown",
      "metadata": {
        "id": "mt-7NXtTdRda"
      },
      "source": [
        "We will now be fitting each customer to their different clusters and calculate the mean of each of the variables to understand the different metrics in a cluster"
      ]
    },
    {
      "cell_type": "code",
      "metadata": {
        "colab": {
          "base_uri": "https://localhost:8080/",
          "height": 204
        },
        "id": "AHLxndhbcZo4",
        "outputId": "1c906b3b-5aa3-40cc-bb5c-c2e0ff1087ec"
      },
      "source": [
        "# Create a Cluster column on the original RFM table and calculate the means of each variable\r\n",
        "customer_agg[\"Cluster\"] = model.labels_ # Fit clusters to each customer\r\n",
        "customer_agg.groupby('Cluster').agg({ #Use a groupby of each cluster to find all the means of each variable in a cluster\r\n",
        "    'Recency':'mean',\r\n",
        "    'Frequency':'mean',\r\n",
        "    'MonetaryValue':['mean', 'count']}).round(2)"
      ],
      "execution_count": 24,
      "outputs": [
        {
          "output_type": "execute_result",
          "data": {
            "text/html": [
              "<div>\n",
              "<style scoped>\n",
              "    .dataframe tbody tr th:only-of-type {\n",
              "        vertical-align: middle;\n",
              "    }\n",
              "\n",
              "    .dataframe tbody tr th {\n",
              "        vertical-align: top;\n",
              "    }\n",
              "\n",
              "    .dataframe thead tr th {\n",
              "        text-align: left;\n",
              "    }\n",
              "\n",
              "    .dataframe thead tr:last-of-type th {\n",
              "        text-align: right;\n",
              "    }\n",
              "</style>\n",
              "<table border=\"1\" class=\"dataframe\">\n",
              "  <thead>\n",
              "    <tr>\n",
              "      <th></th>\n",
              "      <th>Recency</th>\n",
              "      <th>Frequency</th>\n",
              "      <th colspan=\"2\" halign=\"left\">MonetaryValue</th>\n",
              "    </tr>\n",
              "    <tr>\n",
              "      <th></th>\n",
              "      <th>mean</th>\n",
              "      <th>mean</th>\n",
              "      <th>mean</th>\n",
              "      <th>count</th>\n",
              "    </tr>\n",
              "    <tr>\n",
              "      <th>Cluster</th>\n",
              "      <th></th>\n",
              "      <th></th>\n",
              "      <th></th>\n",
              "      <th></th>\n",
              "    </tr>\n",
              "  </thead>\n",
              "  <tbody>\n",
              "    <tr>\n",
              "      <th>0</th>\n",
              "      <td>47.29</td>\n",
              "      <td>1.61</td>\n",
              "      <td>21.57</td>\n",
              "      <td>808</td>\n",
              "    </tr>\n",
              "    <tr>\n",
              "      <th>1</th>\n",
              "      <td>226.77</td>\n",
              "      <td>1.64</td>\n",
              "      <td>28.67</td>\n",
              "      <td>959</td>\n",
              "    </tr>\n",
              "    <tr>\n",
              "      <th>2</th>\n",
              "      <td>46.29</td>\n",
              "      <td>7.72</td>\n",
              "      <td>165.91</td>\n",
              "      <td>923</td>\n",
              "    </tr>\n",
              "  </tbody>\n",
              "</table>\n",
              "</div>"
            ],
            "text/plain": [
              "        Recency Frequency MonetaryValue      \n",
              "           mean      mean          mean count\n",
              "Cluster                                      \n",
              "0         47.29      1.61         21.57   808\n",
              "1        226.77      1.64         28.67   959\n",
              "2         46.29      7.72        165.91   923"
            ]
          },
          "metadata": {
            "tags": []
          },
          "execution_count": 24
        }
      ]
    },
    {
      "cell_type": "markdown",
      "metadata": {
        "id": "k0h6SZf8d9yz"
      },
      "source": [
        "As we can see from the table above, each cluster has the averages shown above with how many customers each cluster of customers contain. We will now make further analysis of the clusters using a snake plot. The snake plot can visualise the differences in the clusters efficiently. It will make use of the normalised data and the labels of each cluster"
      ]
    },
    {
      "cell_type": "code",
      "metadata": {
        "id": "Z4RYh1k8cHYJ"
      },
      "source": [
        "# Create a new normalised dataframe for the snake plot\r\n",
        "norm_df = pd.DataFrame(normalised_rfm, columns=['Recency', 'Frequency', 'MonetaryValue'])\r\n",
        "norm_df['ID'] = customer_agg.index\r\n",
        "norm_df['Cluster'] = model.labels_"
      ],
      "execution_count": 25,
      "outputs": []
    },
    {
      "cell_type": "code",
      "metadata": {
        "colab": {
          "base_uri": "https://localhost:8080/",
          "height": 204
        },
        "id": "Rv-ECH3pe_3m",
        "outputId": "fa5d7eaf-f01a-44da-eda4-11602c32ff93"
      },
      "source": [
        "# Use the melt to melt all the data values together\r\n",
        "norm_melt_df = pd.melt(norm_df.reset_index(),\r\n",
        "                      id_vars=['ID', 'Cluster'],\r\n",
        "                      value_vars=['Recency','Frequency','MonetaryValue'],\r\n",
        "                      var_name='Attribute',\r\n",
        "                      value_name='Value')\r\n",
        "norm_melt_df.head()"
      ],
      "execution_count": 26,
      "outputs": [
        {
          "output_type": "execute_result",
          "data": {
            "text/html": [
              "<div>\n",
              "<style scoped>\n",
              "    .dataframe tbody tr th:only-of-type {\n",
              "        vertical-align: middle;\n",
              "    }\n",
              "\n",
              "    .dataframe tbody tr th {\n",
              "        vertical-align: top;\n",
              "    }\n",
              "\n",
              "    .dataframe thead th {\n",
              "        text-align: right;\n",
              "    }\n",
              "</style>\n",
              "<table border=\"1\" class=\"dataframe\">\n",
              "  <thead>\n",
              "    <tr style=\"text-align: right;\">\n",
              "      <th></th>\n",
              "      <th>ID</th>\n",
              "      <th>Cluster</th>\n",
              "      <th>Attribute</th>\n",
              "      <th>Value</th>\n",
              "    </tr>\n",
              "  </thead>\n",
              "  <tbody>\n",
              "    <tr>\n",
              "      <th>0</th>\n",
              "      <td>12347.0</td>\n",
              "      <td>2</td>\n",
              "      <td>Recency</td>\n",
              "      <td>-0.493794</td>\n",
              "    </tr>\n",
              "    <tr>\n",
              "      <th>1</th>\n",
              "      <td>12348.0</td>\n",
              "      <td>1</td>\n",
              "      <td>Recency</td>\n",
              "      <td>1.232949</td>\n",
              "    </tr>\n",
              "    <tr>\n",
              "      <th>2</th>\n",
              "      <td>12349.0</td>\n",
              "      <td>2</td>\n",
              "      <td>Recency</td>\n",
              "      <td>-0.994917</td>\n",
              "    </tr>\n",
              "    <tr>\n",
              "      <th>3</th>\n",
              "      <td>12352.0</td>\n",
              "      <td>2</td>\n",
              "      <td>Recency</td>\n",
              "      <td>-0.012582</td>\n",
              "    </tr>\n",
              "    <tr>\n",
              "      <th>4</th>\n",
              "      <td>12354.0</td>\n",
              "      <td>1</td>\n",
              "      <td>Recency</td>\n",
              "      <td>1.155005</td>\n",
              "    </tr>\n",
              "  </tbody>\n",
              "</table>\n",
              "</div>"
            ],
            "text/plain": [
              "        ID  Cluster Attribute     Value\n",
              "0  12347.0        2   Recency -0.493794\n",
              "1  12348.0        1   Recency  1.232949\n",
              "2  12349.0        2   Recency -0.994917\n",
              "3  12352.0        2   Recency -0.012582\n",
              "4  12354.0        1   Recency  1.155005"
            ]
          },
          "metadata": {
            "tags": []
          },
          "execution_count": 26
        }
      ]
    },
    {
      "cell_type": "code",
      "metadata": {
        "colab": {
          "base_uri": "https://localhost:8080/",
          "height": 350
        },
        "id": "wcpRaJlFfRY0",
        "outputId": "b3b0815d-6138-41b3-d2fb-69609da3ecb3"
      },
      "source": [
        "# Visualize the data\r\n",
        "sns.lineplot('Attribute', 'Value', hue='Cluster', data=norm_melt_df)"
      ],
      "execution_count": 27,
      "outputs": [
        {
          "output_type": "stream",
          "text": [
            "/usr/local/lib/python3.6/dist-packages/seaborn/_decorators.py:43: FutureWarning: Pass the following variables as keyword args: x, y. From version 0.12, the only valid positional argument will be `data`, and passing other arguments without an explicit keyword will result in an error or misinterpretation.\n",
            "  FutureWarning\n"
          ],
          "name": "stderr"
        },
        {
          "output_type": "execute_result",
          "data": {
            "text/plain": [
              "<matplotlib.axes._subplots.AxesSubplot at 0x7fc5fa02b9b0>"
            ]
          },
          "metadata": {
            "tags": []
          },
          "execution_count": 27
        },
        {
          "output_type": "display_data",
          "data": {
            "image/png": "[encoded data removed]",
            "text/plain": [
              "<Figure size 432x288 with 1 Axes>"
            ]
          },
          "metadata": {
            "tags": [],
            "needs_background": "light"
          }
        }
      ]
    },
    {
      "cell_type": "markdown",
      "metadata": {
        "id": "g2d2YUcUfd6G"
      },
      "source": [
        "As we can see with the above plot, we can see cluster 0 has customers that generally spend less, less frequently but more recently. this is an indication of a new customer base that we have received. We can thus make the necessary measures to understand more about their behaviour\r\n",
        "\r\n",
        "The cluster 1 shows us a customer base that does not but recently enough, spends less frequently and spends less money. This is our churned client base\r\n",
        "\r\n",
        "The cluster 2 is a client base that spends more money, buys more frequently and buys most recently. This is an indication of our loyal customers.\r\n",
        "\r\n",
        "We can thus both look at the norm_df to see just how many client we have in each cluster, the means of each variable with the snake plot visualising the difference to make it more clear what the behaviour of each client base is."
      ]
    }
  ]
}